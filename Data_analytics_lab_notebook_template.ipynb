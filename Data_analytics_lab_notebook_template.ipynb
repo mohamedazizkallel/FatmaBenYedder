{
  "nbformat": 4,
  "nbformat_minor": 0,
  "metadata": {
    "colab": {
      "provenance": []
    },
    "kernelspec": {
      "name": "python3",
      "display_name": "Python 3"
    },
    "language_info": {
      "name": "python"
    }
  },
  "cells": [
    {
      "cell_type": "code",
      "source": [
        "#Please Replace all teh placeholders {} with your details"
      ],
      "metadata": {
        "id": "fa33fidODTSm"
      },
      "execution_count": 1,
      "outputs": []
    },
    {
      "cell_type": "markdown",
      "source": [
        "# {Project_title}"
      ],
      "metadata": {
        "id": "vLmQa9SrDE--"
      }
    },
    {
      "cell_type": "markdown",
      "source": [
        "## 1. Business Understanding"
      ],
      "metadata": {
        "id": "UbOPPKAzDhKv"
      }
    },
    {
      "cell_type": "markdown",
      "source": [
        "### 1.1 Project description"
      ],
      "metadata": {
        "id": "jyl817AvE2k-"
      }
    },
    {
      "cell_type": "markdown",
      "source": [
        "### 1.2 Project objectives"
      ],
      "metadata": {
        "id": "fXt9SeC1E8Cq"
      }
    },
    {
      "cell_type": "markdown",
      "source": [
        "## 2. Data Understanding"
      ],
      "metadata": {
        "id": "VgcvG3LzDjwa"
      }
    },
    {
      "cell_type": "markdown",
      "source": [
        "### 2.1. Importing data"
      ],
      "metadata": {
        "id": "nx-hrXNnFbIH"
      }
    },
    {
      "cell_type": "markdown",
      "source": [
        "### 2.2. Data exploration"
      ],
      "metadata": {
        "id": "rpgUZeQtFrKs"
      }
    },
    {
      "cell_type": "markdown",
      "source": [
        "###2.2.1 Columns description"
      ],
      "metadata": {
        "id": "TfLgiTjiFyGX"
      }
    },
    {
      "cell_type": "markdown",
      "source": [
        "## 3. Data preparation and pre-processing"
      ],
      "metadata": {
        "id": "MPvrX77NDnrl"
      }
    },
    {
      "cell_type": "markdown",
      "source": [
        "### 3.1. Data cleaning"
      ],
      "metadata": {
        "id": "Td_lfCsiHNDv"
      }
    },
    {
      "cell_type": "code",
      "execution_count": null,
      "metadata": {
        "id": "Nz0qqniMC7UJ"
      },
      "outputs": [],
      "source": []
    },
    {
      "cell_type": "markdown",
      "source": [
        "### 3.2. Data visualization"
      ],
      "metadata": {
        "id": "rDRhDWNRHVcV"
      }
    },
    {
      "cell_type": "markdown",
      "source": [
        "### 3.3 Data reduction"
      ],
      "metadata": {
        "id": "cukYeoFeIFhr"
      }
    },
    {
      "cell_type": "markdown",
      "source": [
        "### 3.4 Data transformation"
      ],
      "metadata": {
        "id": "DnvEuBstIInI"
      }
    },
    {
      "cell_type": "markdown",
      "source": [
        "### 3.4. Feature selection"
      ],
      "metadata": {
        "id": "PhT9dYaIDxCE"
      }
    },
    {
      "cell_type": "code",
      "source": [],
      "metadata": {
        "id": "h3JHzTfED4Ch"
      },
      "execution_count": null,
      "outputs": []
    },
    {
      "cell_type": "markdown",
      "source": [
        "## 4. Modeling"
      ],
      "metadata": {
        "id": "o61jAHcsD4QY"
      }
    },
    {
      "cell_type": "code",
      "source": [],
      "metadata": {
        "id": "VuLQVYNFD62V"
      },
      "execution_count": null,
      "outputs": []
    },
    {
      "cell_type": "markdown",
      "source": [
        "## 5. Evaluation"
      ],
      "metadata": {
        "id": "ARQ0Ih2mD7bc"
      }
    },
    {
      "cell_type": "code",
      "source": [],
      "metadata": {
        "id": "t5_tF4CpD9_W"
      },
      "execution_count": null,
      "outputs": []
    },
    {
      "cell_type": "markdown",
      "source": [
        "## 6. Insights, Conclusions and Business recommendations"
      ],
      "metadata": {
        "id": "6nJnI7D-D-OB"
      }
    },
    {
      "cell_type": "code",
      "source": [],
      "metadata": {
        "id": "gXjTvQGGECxn"
      },
      "execution_count": null,
      "outputs": []
    },
    {
      "cell_type": "markdown",
      "source": [
        "## 7. Deployment"
      ],
      "metadata": {
        "id": "LhiMGJNaEaiK"
      }
    },
    {
      "cell_type": "code",
      "source": [],
      "metadata": {
        "id": "vTIwArztEeAY"
      },
      "execution_count": null,
      "outputs": []
    }
  ]
}